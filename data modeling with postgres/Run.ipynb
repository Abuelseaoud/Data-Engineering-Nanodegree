{
 "cells": [
  {
   "cell_type": "code",
   "execution_count": 5,
   "metadata": {
    "editable": true
   },
   "outputs": [],
   "source": [
    "!python3 create_tables.py"
   ]
  },
  {
   "cell_type": "code",
   "execution_count": 6,
   "metadata": {
    "editable": true
   },
   "outputs": [
    {
     "name": "stdout",
     "output_type": "stream",
     "text": [
      "76 files found in data/song_data\n",
      "1/76 files processed.\n",
      "2/76 files processed.\n",
      "3/76 files processed.\n",
      "4/76 files processed.\n",
      "5/76 files processed.\n",
      "6/76 files processed.\n",
      "7/76 files processed.\n",
      "8/76 files processed.\n",
      "9/76 files processed.\n",
      "10/76 files processed.\n",
      "11/76 files processed.\n",
      "12/76 files processed.\n",
      "13/76 files processed.\n",
      "14/76 files processed.\n",
      "15/76 files processed.\n",
      "16/76 files processed.\n",
      "17/76 files processed.\n",
      "18/76 files processed.\n",
      "19/76 files processed.\n",
      "20/76 files processed.\n",
      "21/76 files processed.\n",
      "22/76 files processed.\n",
      "23/76 files processed.\n",
      "24/76 files processed.\n",
      "25/76 files processed.\n",
      "26/76 files processed.\n",
      "27/76 files processed.\n",
      "28/76 files processed.\n",
      "29/76 files processed.\n",
      "30/76 files processed.\n",
      "31/76 files processed.\n",
      "32/76 files processed.\n",
      "33/76 files processed.\n",
      "34/76 files processed.\n",
      "35/76 files processed.\n",
      "36/76 files processed.\n",
      "37/76 files processed.\n",
      "38/76 files processed.\n",
      "39/76 files processed.\n",
      "40/76 files processed.\n",
      "41/76 files processed.\n",
      "42/76 files processed.\n",
      "43/76 files processed.\n",
      "44/76 files processed.\n",
      "45/76 files processed.\n",
      "46/76 files processed.\n",
      "47/76 files processed.\n",
      "48/76 files processed.\n",
      "49/76 files processed.\n",
      "50/76 files processed.\n",
      "51/76 files processed.\n",
      "52/76 files processed.\n",
      "53/76 files processed.\n",
      "54/76 files processed.\n",
      "55/76 files processed.\n",
      "56/76 files processed.\n",
      "57/76 files processed.\n",
      "58/76 files processed.\n",
      "59/76 files processed.\n",
      "60/76 files processed.\n",
      "61/76 files processed.\n",
      "62/76 files processed.\n",
      "63/76 files processed.\n",
      "64/76 files processed.\n",
      "65/76 files processed.\n",
      "66/76 files processed.\n",
      "67/76 files processed.\n",
      "68/76 files processed.\n",
      "69/76 files processed.\n",
      "70/76 files processed.\n",
      "71/76 files processed.\n",
      "72/76 files processed.\n",
      "73/76 files processed.\n",
      "74/76 files processed.\n",
      "75/76 files processed.\n",
      "76/76 files processed.\n",
      "30 files found in data/log_data\n",
      "1/30 files processed.\n",
      "2/30 files processed.\n",
      "3/30 files processed.\n",
      "4/30 files processed.\n",
      "5/30 files processed.\n",
      "6/30 files processed.\n",
      "7/30 files processed.\n",
      "8/30 files processed.\n",
      "9/30 files processed.\n",
      "10/30 files processed.\n",
      "11/30 files processed.\n",
      "12/30 files processed.\n",
      "13/30 files processed.\n",
      "14/30 files processed.\n",
      "15/30 files processed.\n",
      "16/30 files processed.\n",
      "17/30 files processed.\n",
      "18/30 files processed.\n",
      "19/30 files processed.\n",
      "20/30 files processed.\n",
      "21/30 files processed.\n",
      "22/30 files processed.\n",
      "23/30 files processed.\n",
      "24/30 files processed.\n",
      "25/30 files processed.\n",
      "26/30 files processed.\n",
      "27/30 files processed.\n",
      "28/30 files processed.\n",
      "29/30 files processed.\n",
      "30/30 files processed.\n"
     ]
    }
   ],
   "source": [
    "!python3 etl.py"
   ]
  },
  {
   "cell_type": "code",
   "execution_count": 14,
   "metadata": {
    "editable": true
   },
   "outputs": [],
   "source": [
    "import os\n",
    "import glob\n",
    "import psycopg2\n",
    "import pandas as pd\n",
    "from sql_queries import *\n",
    "import datetime"
   ]
  },
  {
   "cell_type": "code",
   "execution_count": 31,
   "metadata": {
    "editable": true
   },
   "outputs": [
    {
     "name": "stdout",
     "output_type": "stream",
     "text": [
      "(Timestamp('2018-11-01 21:01:46.796000'), 8, 'free', 'A', 'B', 139, 'Phoenix-Mesa-Scottsdale, AZ', '\"Mozilla/5.0 (Windows NT 6.1; WOW64) AppleWebKit/537.36 (KHTML, like Gecko) Chrome/35.0.1916.153 Safari/537.36\"')\n",
      "(Timestamp('2018-11-01 21:05:52.796000'), 8, 'free', 'A', 'B', 139, 'Phoenix-Mesa-Scottsdale, AZ', '\"Mozilla/5.0 (Windows NT 6.1; WOW64) AppleWebKit/537.36 (KHTML, like Gecko) Chrome/35.0.1916.153 Safari/537.36\"')\n",
      "(Timestamp('2018-11-01 21:08:16.796000'), 8, 'free', 'A', 'B', 139, 'Phoenix-Mesa-Scottsdale, AZ', '\"Mozilla/5.0 (Windows NT 6.1; WOW64) AppleWebKit/537.36 (KHTML, like Gecko) Chrome/35.0.1916.153 Safari/537.36\"')\n",
      "(Timestamp('2018-11-01 21:11:13.796000'), 8, 'free', 'A', 'B', 139, 'Phoenix-Mesa-Scottsdale, AZ', '\"Mozilla/5.0 (Windows NT 6.1; WOW64) AppleWebKit/537.36 (KHTML, like Gecko) Chrome/35.0.1916.153 Safari/537.36\"')\n",
      "(Timestamp('2018-11-01 21:17:33.796000'), 8, 'free', 'A', 'B', 139, 'Phoenix-Mesa-Scottsdale, AZ', '\"Mozilla/5.0 (Windows NT 6.1; WOW64) AppleWebKit/537.36 (KHTML, like Gecko) Chrome/35.0.1916.153 Safari/537.36\"')\n",
      "(Timestamp('2018-11-01 21:24:53.796000'), 8, 'free', 'A', 'B', 139, 'Phoenix-Mesa-Scottsdale, AZ', '\"Mozilla/5.0 (Windows NT 6.1; WOW64) AppleWebKit/537.36 (KHTML, like Gecko) Chrome/35.0.1916.153 Safari/537.36\"')\n",
      "(Timestamp('2018-11-01 21:28:54.796000'), 8, 'free', 'A', 'B', 139, 'Phoenix-Mesa-Scottsdale, AZ', '\"Mozilla/5.0 (Windows NT 6.1; WOW64) AppleWebKit/537.36 (KHTML, like Gecko) Chrome/35.0.1916.153 Safari/537.36\"')\n",
      "(Timestamp('2018-11-01 21:42:00.796000'), 10, 'free', 'A', 'B', 9, 'Washington-Arlington-Alexandria, DC-VA-MD-WV', '\"Mozilla/5.0 (Macintosh; Intel Mac OS X 10_9_4) AppleWebKit/537.77.4 (KHTML, like Gecko) Version/7.0.5 Safari/537.77.4\"')\n",
      "(Timestamp('2018-11-01 21:52:05.796000'), 26, 'free', 'A', 'B', 169, 'San Jose-Sunnyvale-Santa Clara, CA', '\"Mozilla/5.0 (X11; Linux x86_64) AppleWebKit/537.36 (KHTML, like Gecko) Ubuntu Chromium/36.0.1985.125 Chrome/36.0.1985.125 Safari/537.36\"')\n",
      "(Timestamp('2018-11-01 21:55:25.796000'), 26, 'free', 'A', 'B', 169, 'San Jose-Sunnyvale-Santa Clara, CA', '\"Mozilla/5.0 (X11; Linux x86_64) AppleWebKit/537.36 (KHTML, like Gecko) Ubuntu Chromium/36.0.1985.125 Chrome/36.0.1985.125 Safari/537.36\"')\n",
      "(Timestamp('2018-11-01 22:23:14.796000'), 101, 'free', 'A', 'B', 100, 'New Orleans-Metairie, LA', '\"Mozilla/5.0 (Windows NT 6.3; WOW64) AppleWebKit/537.36 (KHTML, like Gecko) Chrome/36.0.1985.143 Safari/537.36\"')\n"
     ]
    }
   ],
   "source": []
  }
 ],
 "metadata": {
  "kernelspec": {
   "display_name": "Python 3",
   "language": "python",
   "name": "python3"
  },
  "language_info": {
   "codemirror_mode": {
    "name": "ipython",
    "version": 3
   },
   "file_extension": ".py",
   "mimetype": "text/x-python",
   "name": "python",
   "nbconvert_exporter": "python",
   "pygments_lexer": "ipython3",
   "version": "3.6.3"
  }
 },
 "nbformat": 4,
 "nbformat_minor": 4
}
