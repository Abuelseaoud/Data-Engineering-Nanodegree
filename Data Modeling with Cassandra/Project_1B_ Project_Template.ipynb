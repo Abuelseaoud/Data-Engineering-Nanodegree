{
 "cells": [
  {
   "cell_type": "markdown",
   "metadata": {
    "editable": true
   },
   "source": [
    "# Part I. ETL Pipeline for Pre-Processing the Files"
   ]
  },
  {
   "cell_type": "markdown",
   "metadata": {
    "editable": true
   },
   "source": [
    "## PLEASE RUN THE FOLLOWING CODE FOR PRE-PROCESSING THE FILES"
   ]
  },
  {
   "cell_type": "markdown",
   "metadata": {
    "editable": true
   },
   "source": [
    "#### Import Python packages "
   ]
  },
  {
   "cell_type": "code",
   "execution_count": 1,
   "metadata": {
    "editable": true
   },
   "outputs": [],
   "source": [
    "# Import Python packages \n",
    "import pandas as pd\n",
    "import cassandra\n",
    "import re\n",
    "import os\n",
    "import glob\n",
    "import numpy as np\n",
    "import json\n",
    "import csv\n",
    "from decimal import Decimal\n",
    "import shutil"
   ]
  },
  {
   "cell_type": "markdown",
   "metadata": {
    "editable": true
   },
   "source": [
    "#### Creating list of filepaths to process original event csv data files"
   ]
  },
  {
   "cell_type": "code",
   "execution_count": 2,
   "metadata": {
    "editable": true
   },
   "outputs": [
    {
     "name": "stdout",
     "output_type": "stream",
     "text": [
      "[Errno 2] No such file or directory: '/home/workspace/event_data/.ipynb_checkpoints'\n"
     ]
    }
   ],
   "source": [
    "\n",
    "# Get current folder and subfolder event data\n",
    "filepath = os.getcwd() + '/event_data'\n",
    "file_path_list=[]\n",
    "\n",
    "#DELETE FOLDER IF EXIST TO SELECT ONLY NEEDED DATA\n",
    "try:\n",
    "    shutil.rmtree(filepath+'/.ipynb_checkpoints')\n",
    "except Exception as e :\n",
    "    print(e)\n",
    "    \n",
    "#Create a for loop to create a list of files and collect each filepath\n",
    "for root, dirs, files in os.walk(filepath):   \n",
    "# join the file path and roots with the subdirectories using glob\n",
    "    file_path_list =(glob.glob(os.path.join(root,'*events.csv')))\n",
    "    #print(file_path_list)\n",
    "    #print(len(file_path_list))"
   ]
  },
  {
   "cell_type": "markdown",
   "metadata": {
    "editable": true
   },
   "source": [
    "#### Processing the files to create the data file csv that will be used for Apache Casssandra tables"
   ]
  },
  {
   "cell_type": "code",
   "execution_count": 3,
   "metadata": {
    "editable": true
   },
   "outputs": [],
   "source": [
    "# initiating an empty list of rows that will be generated from each file\n",
    "full_data_rows_list = [] \n",
    "    \n",
    "# for every filepath in the file path list \n",
    "for f in file_path_list:    \n",
    "# reading csv file \n",
    "    with open(f, 'r', encoding = 'utf8', newline='') as csvfile: \n",
    "        # creating a csv reader object \n",
    "        csvreader = csv.reader(csvfile) \n",
    "        next(csvreader) \n",
    " # extracting each data row one by one and append it        \n",
    "        for line in csvreader:\n",
    "            #print(line)\n",
    "            full_data_rows_list.append(line) \n",
    "            \n",
    "\n",
    "\n",
    "\n",
    "# creating a smaller event data csv file called event_datafile_full csv that will be used to insert data into the \\\n",
    "# Apache Cassandra tables\n",
    "csv.register_dialect('myDialect', quoting=csv.QUOTE_ALL, skipinitialspace=True)\n",
    "\n",
    "with open('event_datafile_new.csv', 'w', encoding = 'utf8', newline='') as f:\n",
    "    writer = csv.writer(f, dialect='myDialect')\n",
    "    writer.writerow(['artist','firstName','gender','itemInSession','lastName','length',\\\n",
    "                'level','location','sessionId','song','userId'])\n",
    "    for row in full_data_rows_list:\n",
    "        if (row[0] == ''):\n",
    "            continue\n",
    "        writer.writerow((row[0], row[2], row[3], row[4], row[5], row[6], row[7], row[8], row[12], row[13], row[16]))\n"
   ]
  },
  {
   "cell_type": "code",
   "execution_count": 4,
   "metadata": {
    "editable": true
   },
   "outputs": [
    {
     "name": "stdout",
     "output_type": "stream",
     "text": [
      "6821\n"
     ]
    }
   ],
   "source": [
    "# check the number of rows in csv file\n",
    "with open('event_datafile_new.csv', 'r', encoding = 'utf8') as f:\n",
    "    print(sum(1 for line in f))"
   ]
  },
  {
   "cell_type": "markdown",
   "metadata": {
    "editable": true
   },
   "source": [
    "# Part II. Complete the Apache Cassandra coding portion of your project. \n",
    "\n",
    "## Now you are ready to work with the CSV file titled <font color=red>event_datafile_new.csv</font>, located within the Workspace directory.  The event_datafile_new.csv contains the following columns: \n",
    "- artist \n",
    "- firstName of user\n",
    "- gender of user\n",
    "- item number in session\n",
    "- last name of user\n",
    "- length of the song\n",
    "- level (paid or free song)\n",
    "- location of the user\n",
    "- sessionId\n",
    "- song title\n",
    "- userId\n",
    "\n",
    "The image below is a screenshot of what the denormalized data should appear like in the <font color=red>**event_datafile_new.csv**</font> after the code above is run:<br>\n",
    "\n",
    "<img src=\"images/image_event_datafile_new.jpg\">"
   ]
  },
  {
   "cell_type": "markdown",
   "metadata": {
    "editable": true
   },
   "source": [
    "## Begin writing your Apache Cassandra code in the cells below"
   ]
  },
  {
   "cell_type": "markdown",
   "metadata": {
    "editable": true
   },
   "source": [
    "#### Creating a Cluster"
   ]
  },
  {
   "cell_type": "code",
   "execution_count": 5,
   "metadata": {
    "editable": true
   },
   "outputs": [],
   "source": [
    "#connecting to local machine casendra\n",
    "from cassandra.cluster import Cluster\n",
    "cluster = Cluster()\n",
    "\n",
    "#  Creating a session\n",
    "session = cluster.connect()"
   ]
  },
  {
   "cell_type": "markdown",
   "metadata": {
    "editable": true
   },
   "source": [
    "#### Create Keyspace"
   ]
  },
  {
   "cell_type": "code",
   "execution_count": 6,
   "metadata": {
    "editable": true
   },
   "outputs": [],
   "source": [
    "\n",
    "try:\n",
    "    session.execute(\"\"\"\n",
    "    CREATE KEYSPACE IF NOT EXISTS SPARKIFY\n",
    "    WITH REPLICATION=\n",
    "    {'class':'SimpleStrategy','replication_factor':1}\n",
    "    \"\"\")\n",
    "\n",
    "except Exception as e:\n",
    "    print(e)\n",
    "    "
   ]
  },
  {
   "cell_type": "markdown",
   "metadata": {
    "editable": true
   },
   "source": [
    "#### Set Keyspace"
   ]
  },
  {
   "cell_type": "code",
   "execution_count": 7,
   "metadata": {
    "editable": true
   },
   "outputs": [],
   "source": [
    "\n",
    "try:\n",
    "    session.set_keyspace('sparkify')\n",
    "except Exception as e:\n",
    "    print(e)\n"
   ]
  },
  {
   "cell_type": "markdown",
   "metadata": {
    "editable": true
   },
   "source": [
    "### Now we need to create tables to run the following queries. Remember, with Apache Cassandra you model the database tables on the queries you want to run."
   ]
  },
  {
   "cell_type": "markdown",
   "metadata": {
    "editable": true
   },
   "source": [
    "## Create queries to ask the following three questions of the data\n",
    "\n",
    "### 1. Give me the artist, song title and song's length in the music app history that was heard during  sessionId = 338, and itemInSession  = 4\n",
    "\n",
    "\n",
    "### 2. Give me only the following: name of artist, song (sorted by itemInSession) and user (first and last name) for userid = 10, sessionid = 182\n",
    "    \n",
    "\n",
    "### 3. Give me every user name (first and last) in my music app history who listened to the song 'All Hands Against His Own'\n",
    "\n",
    "\n"
   ]
  },
  {
   "cell_type": "code",
   "execution_count": 8,
   "metadata": {
    "editable": true
   },
   "outputs": [],
   "source": [
    "## Query 1:  Give me the artist, song title and song's length in the music app history that was heard during \\\n",
    "## sessionId = 338, and itemInSession = 4\n",
    "\n",
    "#so our data will by partitioned by sessionId and clustered by itemInSession\n",
    "try:\n",
    "    session.execute('DROP TABLE IF EXISTS song_hist') \n",
    "except Exception as e :\n",
    "    print(e)\n",
    "try:\n",
    "    query='CREATE TABLE song_hist'\n",
    "    query+=\"\"\"(sess_id int,\n",
    "    user_id int,\n",
    "    sess_item int ,\n",
    "    first_name varchar,\n",
    "    last_name varchar ,\n",
    "    gender varchar ,\n",
    "    location text,\n",
    "    level varchar,\n",
    "    artist varchar,\n",
    "    song varchar,\n",
    "    length double,\n",
    "    primary key (sess_id,sess_item)\n",
    "    )\"\"\"\n",
    "    session.execute(query) \n",
    "except Exception as e :\n",
    "    print(e)                  "
   ]
  },
  {
   "cell_type": "code",
   "execution_count": 10,
   "metadata": {
    "editable": true
   },
   "outputs": [],
   "source": [
    "#test record for csv\n",
    "#with open('event_datafile_new.csv', encoding = 'utf8') as f:\n",
    "#    csvreader = csv.reader(f)\n",
    "#    #print header\n",
    "#    print(next(csvreader))\n",
    "#    #print first line\n",
    "#    print(next(csvreader))\n",
    "#    f.close()\n",
    "    "
   ]
  },
  {
   "cell_type": "code",
   "execution_count": 9,
   "metadata": {
    "editable": true
   },
   "outputs": [],
   "source": [
    "#reading the smaller file and inserting data in table\n",
    "file = 'event_datafile_new.csv'\n",
    "\n",
    "with open(file, encoding = 'utf8') as f:\n",
    "    csvreader = csv.reader(f)\n",
    "    next(csvreader) # skip header\n",
    "    for line in csvreader:\n",
    "\n",
    "        query = \"\"\"INSERT INTO song_hist (sess_id,\n",
    "        user_id  ,\n",
    "        sess_item ,\n",
    "        first_name ,\n",
    "        last_name ,\n",
    "        gender  ,\n",
    "        location,\n",
    "        level,\n",
    "        artist,\n",
    "        song ,\n",
    "        length)\"\"\"\n",
    "        query = query + \"VALUES(%s,%s,%s,%s,%s,%s,%s,%s,%s,%s,%s)\"\n",
    "        session.execute(query, (int(line[8]), int(line[10]), int(line[3]), line[1], line[4], line[2], line[7], line[6], line[0], line[9], Decimal(line[5])))"
   ]
  },
  {
   "cell_type": "markdown",
   "metadata": {
    "editable": true
   },
   "source": [
    "#### Do a SELECT to verify that the data have been inserted into each table"
   ]
  },
  {
   "cell_type": "code",
   "execution_count": 11,
   "metadata": {
    "editable": true,
    "scrolled": true
   },
   "outputs": [
    {
     "name": "stdout",
     "output_type": "stream",
     "text": [
      "Faithless Music Matters (Mark Knight Dub) 495.3073\n"
     ]
    }
   ],
   "source": [
    "\n",
    "#verify number of records in table \n",
    "\n",
    "#try:\n",
    "#    query='SELECT COUNT (*) FROM song_hist'\n",
    "#    rows=session.execute(query) \n",
    "#except Exception as e :\n",
    "#    print(e)   \n",
    "#for row in rows:\n",
    "#    print (row.count)\n",
    "    \n",
    "#Query1: select the artist, song title and song's length in the music app history that was heard during sessionId = 338, and itemInSession = 4 \n",
    "    \n",
    "try:\n",
    "    query='SELECT artist,song ,length FROM song_hist where sess_id=338 and sess_item=4'\n",
    "    rows=session.execute(query) \n",
    "except Exception as e :\n",
    "    print(e)\n",
    "    \n",
    "for row in rows:\n",
    "    print (row.artist,row.song,row.length)\n",
    "    \n"
   ]
  },
  {
   "cell_type": "markdown",
   "metadata": {
    "editable": true
   },
   "source": [
    "### COPY AND REPEAT THE ABOVE THREE CELLS FOR EACH OF THE THREE QUESTIONS"
   ]
  },
  {
   "cell_type": "code",
   "execution_count": 12,
   "metadata": {
    "editable": true
   },
   "outputs": [],
   "source": [
    "## Query 2: Give me only the following: name of artist, song (sorted by itemInSession) and user (first and last name)\\\n",
    "## for userid = 10, sessionid = 182\n",
    "\n",
    "#So our table will be partitioned by userId and clustered by SessionId and for uniqueness we will add  items in Session to  Clustering columns\n",
    "\n",
    "try:\n",
    "    session.execute('DROP TABLE IF EXISTS song_of_user') \n",
    "except Exception as e :\n",
    "    print(e)\n",
    "try:\n",
    "    query='CREATE TABLE song_of_user'\n",
    "    query+=\"\"\"(sess_id int,\n",
    "    user_id int,\n",
    "    sess_item int ,\n",
    "    first_name varchar,\n",
    "    last_name varchar ,\n",
    "    gender varchar ,\n",
    "    location text,\n",
    "    level varchar,\n",
    "    artist varchar,\n",
    "    song varchar,\n",
    "    length double,\n",
    "    primary key (user_id,sess_id,sess_item)\n",
    "    )\"\"\"\n",
    "    session.execute(query) \n",
    "except Exception as e :\n",
    "    print(e)  \n",
    "                    "
   ]
  },
  {
   "cell_type": "code",
   "execution_count": 13,
   "metadata": {
    "editable": true
   },
   "outputs": [],
   "source": [
    "#reading the smaller file and inserting data in table\n",
    "file = 'event_datafile_new.csv'\n",
    "\n",
    "with open(file, encoding = 'utf8') as f:\n",
    "    csvreader = csv.reader(f)\n",
    "    next(csvreader) # skip header\n",
    "    for line in csvreader:\n",
    "\n",
    "        query = \"\"\"INSERT INTO song_of_user (sess_id,\n",
    "        user_id  ,\n",
    "        sess_item ,\n",
    "        first_name ,\n",
    "        last_name ,\n",
    "        gender  ,\n",
    "        location,\n",
    "        level,\n",
    "        artist,\n",
    "        song ,\n",
    "        length)\"\"\"\n",
    "        query = query + \"VALUES(%s,%s,%s,%s,%s,%s,%s,%s,%s,%s,%s)\"\n",
    "        session.execute(query, (int(line[8]), int(line[10]), int(line[3]), line[1], line[4], line[2], line[7], line[6], line[0], line[9], Decimal(line[5])))"
   ]
  },
  {
   "cell_type": "code",
   "execution_count": 14,
   "metadata": {
    "editable": true
   },
   "outputs": [
    {
     "name": "stdout",
     "output_type": "stream",
     "text": [
      "Down To The Bone 0 Keep On Keepin' On Sylvie Cruz\n",
      "Three Drives 1 Greece 2000 Sylvie Cruz\n",
      "Sebastien Tellier 2 Kilometer Sylvie Cruz\n",
      "Lonnie Gordon 3 Catch You Baby (Steve Pitron & Max Sanna Radio Edit) Sylvie Cruz\n"
     ]
    }
   ],
   "source": [
    "#verify number of records in table \n",
    "\n",
    "#try:\n",
    "#    query='SELECT COUNT (*) FROM song_of_user'\n",
    "#    rows=session.execute(query) \n",
    "#except Exception as e :\n",
    "#    print(e)   \n",
    "#for row in rows:\n",
    "#    print (row.count)\n",
    "    \n",
    "#Query2:Select only the following: name of artist, song (sorted by itemInSession) and user (first and last name) for userid = 10, sessionid = 182\n",
    "    \n",
    "try:\n",
    "    query='SELECT artist,sess_item,song,first_name,last_name FROM song_of_user where user_id=10 and sess_id=182 '\n",
    "    rows=session.execute(query) \n",
    "except Exception as e :\n",
    "    print(e)\n",
    "    \n",
    "for row in rows:\n",
    "    print (row.artist,row.sess_item,row.song,row.first_name,row.last_name)"
   ]
  },
  {
   "cell_type": "code",
   "execution_count": 15,
   "metadata": {
    "editable": true
   },
   "outputs": [],
   "source": [
    "## Query 3: Give me every user name (first and last) in my music app history who listened to the song 'All Hands Against His Own'\n",
    "#So our table will be partitioned by song and for uniqueness we will add sessionId and item in session to clustering columns to identify row\n",
    "try:\n",
    "    session.execute('DROP TABLE IF EXISTS user_of_song ') \n",
    "except Exception as e :\n",
    "    print(e)\n",
    "try:\n",
    "    query='CREATE TABLE user_of_song '\n",
    "    query+=\"\"\"(sess_id int,\n",
    "    user_id int,\n",
    "    sess_item int ,\n",
    "    first_name varchar,\n",
    "    last_name varchar ,\n",
    "    gender varchar ,\n",
    "    location text,\n",
    "    level varchar,\n",
    "    artist varchar,\n",
    "    song varchar,\n",
    "    length double,\n",
    "    primary key (song,sess_id,sess_item)\n",
    "    )\"\"\"\n",
    "    session.execute(query) \n",
    "except Exception as e :\n",
    "    print(e)  \n",
    "\n",
    "                    "
   ]
  },
  {
   "cell_type": "code",
   "execution_count": 16,
   "metadata": {
    "editable": true
   },
   "outputs": [],
   "source": [
    "#reading the smaller file and inserting data in table\n",
    "\n",
    "file = 'event_datafile_new.csv'\n",
    "\n",
    "with open(file, encoding = 'utf8') as f:\n",
    "    csvreader = csv.reader(f)\n",
    "    next(csvreader) # skip header\n",
    "    for line in csvreader:\n",
    "\n",
    "        query = \"\"\"INSERT INTO user_of_song  (sess_id,\n",
    "        user_id  ,\n",
    "        sess_item ,\n",
    "        first_name ,\n",
    "        last_name ,\n",
    "        gender  ,\n",
    "        location,\n",
    "        level,\n",
    "        artist,\n",
    "        song ,\n",
    "        length)\"\"\"\n",
    "        query = query + \"VALUES(%s,%s,%s,%s,%s,%s,%s,%s,%s,%s,%s)\"\n",
    "        session.execute(query, (int(line[8]), int(line[10]), int(line[3]), line[1], line[4], line[2], line[7], line[6], line[0], line[9], Decimal(line[5])))"
   ]
  },
  {
   "cell_type": "code",
   "execution_count": 17,
   "metadata": {
    "editable": true
   },
   "outputs": [
    {
     "name": "stdout",
     "output_type": "stream",
     "text": [
      "Sara Johnson\n",
      "Jacqueline Lynch\n",
      "Tegan Levine\n"
     ]
    }
   ],
   "source": [
    "#verify number of records in table \n",
    "\n",
    "#try:\n",
    "#    query='SELECT COUNT (*) FROM user_of_song '\n",
    "#    rows=session.execute(query) \n",
    "#except Exception as e :\n",
    "#    print(e)   \n",
    "#for row in rows:\n",
    "#    print (row.count)\n",
    "\n",
    "\n",
    "#Query3:Select  every user name (first and last) in my music app history who listened to the song 'All Hands Against His Own'\n",
    "    \n",
    "try:\n",
    "    query=\"SELECT first_name,last_name FROM user_of_song  where song='All Hands Against His Own'\"\n",
    "    rows=session.execute(query) \n",
    "except Exception as e :\n",
    "    print(e)\n",
    "    \n",
    "for row in rows:\n",
    "    print (row.first_name,row.last_name)"
   ]
  },
  {
   "cell_type": "markdown",
   "metadata": {
    "editable": true
   },
   "source": [
    "### Drop the tables before closing out the sessions"
   ]
  },
  {
   "cell_type": "code",
   "execution_count": 18,
   "metadata": {
    "editable": true
   },
   "outputs": [],
   "source": [
    "##Dropping tables\n",
    "try:\n",
    "    session.execute('DROP TABLE IF EXISTS song_hist') \n",
    "except Exception as e :\n",
    "    print(e)\n",
    "\n",
    "try:\n",
    "    session.execute('DROP TABLE IF EXISTS song_of_user') \n",
    "except Exception as e :\n",
    "    print(e)\n",
    "    \n",
    "try:\n",
    "    session.execute('DROP TABLE IF EXISTS user_of_song') \n",
    "except Exception as e :\n",
    "    print(e)\n"
   ]
  },
  {
   "cell_type": "markdown",
   "metadata": {
    "editable": true
   },
   "source": [
    "### Close the session and cluster connection¶"
   ]
  },
  {
   "cell_type": "code",
   "execution_count": 19,
   "metadata": {
    "editable": true
   },
   "outputs": [],
   "source": [
    "session.shutdown()\n",
    "cluster.shutdown()"
   ]
  },
  {
   "cell_type": "code",
   "execution_count": 16,
   "metadata": {
    "editable": true
   },
   "outputs": [],
   "source": []
  },
  {
   "cell_type": "code",
   "execution_count": null,
   "metadata": {
    "editable": true
   },
   "outputs": [],
   "source": []
  }
 ],
 "metadata": {
  "kernelspec": {
   "display_name": "Python 3",
   "language": "python",
   "name": "python3"
  },
  "language_info": {
   "codemirror_mode": {
    "name": "ipython",
    "version": 3
   },
   "file_extension": ".py",
   "mimetype": "text/x-python",
   "name": "python",
   "nbconvert_exporter": "python",
   "pygments_lexer": "ipython3",
   "version": "3.6.3"
  }
 },
 "nbformat": 4,
 "nbformat_minor": 4
}
